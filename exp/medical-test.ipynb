{
 "cells": [
  {
   "cell_type": "code",
   "execution_count": 18,
   "id": "ee59ccec",
   "metadata": {},
   "outputs": [
    {
     "name": "stdout",
     "output_type": "stream",
     "text": [
      "train: 7.44 giờ\n",
      "test: 0.50 giờ\n",
      "dev: 0.54 giờ\n"
     ]
    }
   ],
   "source": [
    "import os\n",
    "import wave\n",
    "\n",
    "def get_audio_duration_in_seconds(wav_path):\n",
    "    with wave.open(wav_path, 'r') as wf:\n",
    "        frames = wf.getnframes()\n",
    "        rate = wf.getframerate()\n",
    "        return frames / float(rate)\n",
    "\n",
    "def duration_per_folder(base_path, folders=['train', 'test', 'dev']):\n",
    "    duration_dict = {}\n",
    "    for folder in folders:\n",
    "        total_seconds = 0.0\n",
    "        folder_path = os.path.join(base_path, folder)\n",
    "        if not os.path.exists(folder_path):\n",
    "            print(f\"Folder không tồn tại: {folder_path}\")\n",
    "            continue\n",
    "        for filename in os.listdir(folder_path):\n",
    "            if filename.endswith(\".wav\"):\n",
    "                wav_path = os.path.join(folder_path, filename)\n",
    "                duration = get_audio_duration_in_seconds(wav_path)\n",
    "                total_seconds += duration\n",
    "        duration_dict[folder] = total_seconds / 3600  \n",
    "    return duration_dict\n",
    "\n",
    "\n",
    "base_audio_path = \"Medical Speech, Transcription, and Intent/recordings\"\n",
    "\n",
    "\n",
    "durations = duration_per_folder(base_audio_path)\n",
    "\n",
    "\n",
    "for folder, hours in durations.items():\n",
    "    print(f\"{folder}: {hours:.2f} giờ\")\n"
   ]
  },
  {
   "cell_type": "code",
   "execution_count": null,
   "id": "8f25c6d5",
   "metadata": {},
   "outputs": [],
   "source": []
  }
 ],
 "metadata": {
  "kernelspec": {
   "display_name": "base",
   "language": "python",
   "name": "python3"
  },
  "language_info": {
   "codemirror_mode": {
    "name": "ipython",
    "version": 3
   },
   "file_extension": ".py",
   "mimetype": "text/x-python",
   "name": "python",
   "nbconvert_exporter": "python",
   "pygments_lexer": "ipython3",
   "version": "3.12.7"
  }
 },
 "nbformat": 4,
 "nbformat_minor": 5
}
